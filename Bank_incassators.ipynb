{
  "nbformat": 4,
  "nbformat_minor": 0,
  "metadata": {
    "colab": {
      "provenance": []
    },
    "kernelspec": {
      "name": "python3",
      "display_name": "Python 3"
    },
    "language_info": {
      "name": "python"
    }
  },
  "cells": [
    {
      "cell_type": "markdown",
      "source": [
        "Основа со случайным выбором банкоматов"
      ],
      "metadata": {
        "id": "YMerX1wbYspk"
      }
    },
    {
      "cell_type": "code",
      "source": [
        "import random\n",
        "import numpy as np\n",
        "import heapq"
      ],
      "metadata": {
        "id": "n3JkaTszVQSY"
      },
      "execution_count": 24,
      "outputs": []
    },
    {
      "cell_type": "markdown",
      "source": [
        "# **1 Класс ATM и создание банкоматов**"
      ],
      "metadata": {
        "id": "sMM3m1XsSOpw"
      }
    },
    {
      "cell_type": "code",
      "source": [
        "class ATM:\n",
        "    def __init__(self, atm_id, receive_bin_capacity, dispense_bin_capacity,\n",
        "                 receive_mean, receive_variance,\n",
        "                 dispense_mean, dispense_variance):\n",
        "        self.atm_id = atm_id\n",
        "        self.receive_bin_capacity = receive_bin_capacity\n",
        "        self.dispense_bin_capacity = dispense_bin_capacity\n",
        "        self.receive_bin_level = receive_bin_capacity / 2  # Начальное заполнение на половину\n",
        "        self.dispense_bin_level = dispense_bin_capacity / 2\n",
        "        self.receive_mean = receive_mean\n",
        "        self.receive_variance = receive_variance\n",
        "        self.dispense_mean = dispense_mean\n",
        "        self.dispense_variance = dispense_variance\n",
        "\n",
        "    def days_until_service_needed(self):\n",
        "        if self.receive_mean > 0:\n",
        "            days_to_overflow = (self.receive_bin_capacity - self.receive_bin_level) / self.receive_mean\n",
        "        else:\n",
        "            days_to_overflow = float('inf')\n",
        "        if self.dispense_mean > 0:\n",
        "            days_to_empty = self.dispense_bin_level / self.dispense_mean\n",
        "        else:\n",
        "            days_to_empty = float('inf')\n",
        "        days_until_service = min(days_to_overflow, days_to_empty)\n",
        "        return days_until_service\n",
        "\n",
        "'''  atm_id: Уникальный идентификатор банкомата.\n",
        "receive_bin_capacity и dispense_bin_capacity: Вместимость бункеров для приема и выдачи.\n",
        "receive_bin_level и dispense_bin_level: Начальные уровни заполнения бункеров (в нашем случае — 50% от емкости).\n",
        "receive_mean, receive_variance: Среднее значение и дисперсия для поступлений наличности (количество банкнот).\n",
        "dispense_mean, dispense_variance: Среднее значение и дисперсия для выдачи наличности (количество банкнот).'''\n"
      ],
      "metadata": {
        "colab": {
          "base_uri": "https://localhost:8080/",
          "height": 71
        },
        "id": "PQ76W0yRSSPv",
        "outputId": "14ba9a5e-42d2-4a14-f85d-6da5e51911bf"
      },
      "execution_count": 17,
      "outputs": [
        {
          "output_type": "execute_result",
          "data": {
            "text/plain": [
              "'  atm_id: Уникальный идентификатор банкомата.\\nreceive_bin_capacity и dispense_bin_capacity: Вместимость бункеров для приема и выдачи.\\nreceive_bin_level и dispense_bin_level: Начальные уровни заполнения бункеров (в нашем случае — 50% от емкости).\\nreceive_mean, receive_variance: Среднее значение и дисперсия для поступлений наличности (количество банкнот).\\ndispense_mean, dispense_variance: Среднее значение и дисперсия для выдачи наличности (количество банкнот).'"
            ],
            "application/vnd.google.colaboratory.intrinsic+json": {
              "type": "string"
            }
          },
          "metadata": {},
          "execution_count": 17
        }
      ]
    },
    {
      "cell_type": "markdown",
      "source": [
        "# Генерация банкоматов"
      ],
      "metadata": {
        "id": "L69ZKLxrS5ku"
      }
    },
    {
      "cell_type": "code",
      "source": [
        "num_atms = 1000\n",
        "atms = []\n",
        "\n",
        "for atm_id in range(num_atms):\n",
        "    receive_bin_capacity = random.randint(1000, 5000)\n",
        "    dispense_bin_capacity = random.randint(1000, 5000)\n",
        "    receive_mean = random.uniform(100, 500)\n",
        "    receive_variance = random.uniform(10, 50)\n",
        "    dispense_mean = random.uniform(100, 500)\n",
        "    dispense_variance = random.uniform(10, 50)\n",
        "    atm = ATM(\n",
        "        atm_id=atm_id,\n",
        "        receive_bin_capacity=receive_bin_capacity,\n",
        "        dispense_bin_capacity=dispense_bin_capacity,\n",
        "        receive_mean=receive_mean,\n",
        "        receive_variance=receive_variance,\n",
        "        dispense_mean=dispense_mean,\n",
        "        dispense_variance=dispense_variance\n",
        "    )\n",
        "    atm.x = random.uniform(0, 10)  # Координаты в пределах 10 км x 10 км\n",
        "    atm.y = random.uniform(0, 10)\n",
        "    atms.append(atm)"
      ],
      "metadata": {
        "id": "oCbLkr3xS6Qv"
      },
      "execution_count": 18,
      "outputs": []
    },
    {
      "cell_type": "markdown",
      "source": [
        "# **2. Прогноз обслуживания банкоматов на несколько дней**"
      ],
      "metadata": {
        "id": "pZtVl1FETBdz"
      }
    },
    {
      "cell_type": "code",
      "source": [
        "NUM_DAYS = 5\n",
        "SERVICE_TIME_PER_ATM = 15  # минут\n",
        "WORKING_DAY_DURATION = 8 * 60  # минут\n",
        "NUM_GROUPS = 5\n",
        "AVERAGE_SPEED = 30  # км/ч\n",
        "\n",
        "atms_needing_service = {day: [] for day in range(NUM_DAYS)}"
      ],
      "metadata": {
        "id": "QGnu_odYTRxH"
      },
      "execution_count": 19,
      "outputs": []
    },
    {
      "cell_type": "code",
      "source": [
        "for day in range(NUM_DAYS):\n",
        "    for atm in atms:\n",
        "        if day == 0:\n",
        "            days_until_service = atm.days_until_service_needed()\n",
        "            if days_until_service <= 1:\n",
        "                atms_needing_service[day].append(atm)\n",
        "        else:\n",
        "            atm.receive_bin_level += atm.receive_mean\n",
        "            atm.dispense_bin_level -= atm.dispense_mean\n",
        "            atm.receive_bin_level = min(atm.receive_bin_level, atm.receive_bin_capacity)\n",
        "            atm.dispense_bin_level = max(atm.dispense_bin_level, 0)\n",
        "            if atm.receive_bin_level >= atm.receive_bin_capacity or atm.dispense_bin_level <= 0:\n",
        "                atms_needing_service[day].append(atm)\n",
        "                atm.receive_bin_level = atm.receive_bin_capacity / 2\n",
        "                atm.dispense_bin_level = atm.dispense_bin_capacity / 2\n",
        "\n",
        "'''Первый день (day = 0):\n",
        "Для каждого банкомата вызываем метод days_until_service_needed(). Если требуется обслуживание в течение дня, добавляем банкомат в список обслуживания на сегодняшний день.\n",
        "\n",
        "Последующие дни (day > 0):\n",
        "Обновляем уровни бункеров, добавляя банкноты в бункер для приема (receive_bin_level += receive_mean) и изымая из бункера для выдачи (dispense_bin_level -= dispense_mean).\n",
        "Проверяем, не переполнился ли бункер для приема и не опустел ли бункер для выдачи.\n",
        "Если да, банкомат добавляется в список обслуживания на этот день, и уровни бункеров сбрасываются до начальных значений (наполовину заполненные).\n",
        "'''"
      ],
      "metadata": {
        "colab": {
          "base_uri": "https://localhost:8080/",
          "height": 71
        },
        "id": "ABmR123iTdWg",
        "outputId": "a72467b9-5361-4542-b0be-dd0ec1c8aa4f"
      },
      "execution_count": 20,
      "outputs": [
        {
          "output_type": "execute_result",
          "data": {
            "text/plain": [
              "'Первый день (day = 0): \\nДля каждого банкомата вызываем метод days_until_service_needed(). Если требуется обслуживание в течение дня, добавляем банкомат в список обслуживания на сегодняшний день.\\n\\nПоследующие дни (day > 0):\\nОбновляем уровни бункеров, добавляя банкноты в бункер для приема (receive_bin_level += receive_mean) и изымая из бункера для выдачи (dispense_bin_level -= dispense_mean).\\nПроверяем, не переполнился ли бункер для приема и не опустел ли бункер для выдачи. \\nЕсли да, банкомат добавляется в список обслуживания на этот день, и уровни бункеров сбрасываются до начальных значений (наполовину заполненные).\\n'"
            ],
            "application/vnd.google.colaboratory.intrinsic+json": {
              "type": "string"
            }
          },
          "metadata": {},
          "execution_count": 20
        }
      ]
    },
    {
      "cell_type": "markdown",
      "source": [
        "# **3. Построение маршрутов для инкассаторов**"
      ],
      "metadata": {
        "id": "MJ3IzsGBTtfH"
      }
    },
    {
      "cell_type": "code",
      "source": [
        "for day in range(NUM_DAYS):\n",
        "    atms_today = atms_needing_service[day]\n",
        "    random.shuffle(atms_today)\n",
        "    group_routes = {group_id: [] for group_id in range(NUM_GROUPS)}\n",
        "    group_times = {group_id: 0 for group_id in range(NUM_GROUPS)}\n",
        "    unassigned_atms = []\n",
        "\n",
        "'''Для каждого дня мы распределяем банкоматы между 5 группами инкассаторов, следя за тем, чтобы продолжительность работы каждой группы не превышала 8 часов.\n",
        "atms_today: Банкоматы, которые требуют обслуживания в текущий день.\n",
        "group_routes и group_times: Хранение маршрута и времени для каждой группы.\n",
        "unassigned_atms: Банкоматы, которые не удалось назначить на маршрут из-за ограничения по времени.'''"
      ],
      "metadata": {
        "colab": {
          "base_uri": "https://localhost:8080/",
          "height": 53
        },
        "id": "GHfvDqPrTwxv",
        "outputId": "5057b8c9-ac7b-4ea3-f312-b94fe09e94f3"
      },
      "execution_count": 21,
      "outputs": [
        {
          "output_type": "execute_result",
          "data": {
            "text/plain": [
              "'Для каждого дня мы распределяем банкоматы между 5 группами инкассаторов, следя за тем, чтобы продолжительность работы каждой группы не превышала 8 часов.\\natms_today: Банкоматы, которые требуют обслуживания в текущий день.\\ngroup_routes и group_times: Хранение маршрута и времени для каждой группы.\\nunassigned_atms: Банкоматы, которые не удалось назначить на маршрут из-за ограничения по времени.'"
            ],
            "application/vnd.google.colaboratory.intrinsic+json": {
              "type": "string"
            }
          },
          "metadata": {},
          "execution_count": 21
        }
      ]
    },
    {
      "cell_type": "code",
      "source": [
        "for atm in atms_today:\n",
        "    assigned = False\n",
        "    for group_id in range(NUM_GROUPS):\n",
        "        if group_routes[group_id]:\n",
        "            last_atm = group_routes[group_id][-1]\n",
        "            current_pos = (last_atm.x, last_atm.y)\n",
        "        else:\n",
        "            current_pos = (0, 0)  # База\n",
        "\n",
        "        distance = ((atm.x - current_pos[0]) ** 2 + (atm.y - current_pos[1]) ** 2) ** 0.5\n",
        "        travel_time = (distance / AVERAGE_SPEED) * 60\n",
        "        service_time = SERVICE_TIME_PER_ATM\n",
        "        potential_total_time = group_times[group_id] + travel_time + service_time\n",
        "\n",
        "        if potential_total_time <= WORKING_DAY_DURATION:\n",
        "            group_routes[group_id].append(atm)\n",
        "            group_times[group_id] = potential_total_time\n",
        "            assigned = True\n",
        "            break\n",
        "    if not assigned:\n",
        "        unassigned_atms.append(atm)\n",
        "\n",
        "\n",
        "'''Распределение банкоматов: Каждый банкомат проходит проверку на назначение одной из групп.\n",
        "Рассчет времени на перемещение: Если в маршруте группы уже есть банкомат, то время рассчитывается как расстояние между текущим банкоматом и последним в маршруте (используя формулу Евклидова расстояния).\n",
        "Это расстояние делится на среднюю скорость и умножается на 60, чтобы получить время в минутах.\n",
        "Добавление в маршрут: Если общее время группы (включая обслуживание и перемещение) не превышает рабочего дня, банкомат добавляется в маршрут этой группы, и общее время маршрута обновляется.'''"
      ],
      "metadata": {
        "colab": {
          "base_uri": "https://localhost:8080/",
          "height": 71
        },
        "id": "-YVoa7n-U0Qa",
        "outputId": "4997dc68-a894-4aa6-c3f5-515410bfb6fe"
      },
      "execution_count": 22,
      "outputs": [
        {
          "output_type": "execute_result",
          "data": {
            "text/plain": [
              "'Распределение банкоматов: Каждый банкомат проходит проверку на назначение одной из групп.\\nРассчет времени на перемещение: Если в маршруте группы уже есть банкомат, то время рассчитывается как расстояние между текущим банкоматом и последним в маршруте (используя формулу Евклидова расстояния).\\nЭто расстояние делится на среднюю скорость и умножается на 60, чтобы получить время в минутах.\\nДобавление в маршрут: Если общее время группы (включая обслуживание и перемещение) не превышает рабочего дня, банкомат добавляется в маршрут этой группы, и общее время маршрута обновляется.'"
            ],
            "application/vnd.google.colaboratory.intrinsic+json": {
              "type": "string"
            }
          },
          "metadata": {},
          "execution_count": 22
        }
      ]
    },
    {
      "cell_type": "markdown",
      "source": [],
      "metadata": {
        "id": "HlLtzzGhU-tR"
      }
    },
    {
      "cell_type": "markdown",
      "source": [
        "# **Вывод**"
      ],
      "metadata": {
        "id": "sDalIhb0VHgN"
      }
    },
    {
      "cell_type": "code",
      "source": [
        "for day in range(NUM_DAYS):\n",
        "    print(f\"Day {day + 1} Routes:\")\n",
        "    for group_id, route in group_routes.items():\n",
        "        print(f\"  Group {group_id + 1} Route: {[atm.atm_id for atm in route]}\")\n",
        "    if unassigned_atms:\n",
        "        print(\"  Unassigned ATMs:\", [atm.atm_id for atm in unassigned_atms])\n",
        "    print(\"\\n\")"
      ],
      "metadata": {
        "colab": {
          "base_uri": "https://localhost:8080/"
        },
        "id": "jeDmRP91VG-2",
        "outputId": "c314d945-b15a-40ee-8d2c-112bac3bae0b"
      },
      "execution_count": 23,
      "outputs": [
        {
          "output_type": "stream",
          "name": "stdout",
          "text": [
            "Day 1 Routes:\n",
            "  Group 1 Route: [513, 979, 820, 83, 305, 66, 734, 91, 258, 666, 376, 890, 357, 35, 409, 176, 269, 826]\n",
            "  Group 2 Route: [576, 696, 455, 817, 290, 421, 928, 191, 442, 886, 352, 377, 612, 482, 672, 374, 935, 618, 743]\n",
            "  Group 3 Route: [952, 883, 234, 994, 912, 96, 193, 771, 47, 568, 46, 889, 885, 926, 97, 158, 816, 444, 74]\n",
            "  Group 4 Route: [307, 326, 65, 737, 110, 23, 718, 198, 152, 351, 868, 519, 894, 963, 336, 897, 667, 498]\n",
            "  Group 5 Route: [953, 338, 26, 378, 707, 367, 318, 574, 302, 787, 483, 161, 294, 52, 364, 157, 456]\n",
            "  Unassigned ATMs: [493, 968, 391, 128, 956, 878, 744, 762, 196, 831, 286, 524, 189, 862, 544, 809, 964, 595, 892, 187, 636, 384, 3, 864, 756, 879, 36, 514, 382, 925, 587, 623, 19, 564, 966, 505, 634, 796, 412, 936, 310, 153, 775, 682, 186, 751, 64, 929, 870, 194, 882, 144, 961, 216, 728, 752, 893, 165, 729, 479, 649, 486, 735, 578, 725, 254, 557, 453, 296, 689, 845, 370, 599, 547, 105, 1, 334, 829, 923, 170, 106, 100, 188, 757, 55, 976, 774, 520, 16, 592, 61, 782, 239, 464, 116, 146, 340, 231, 263, 147, 235, 642, 511, 437, 59, 516, 233, 656, 268, 402, 999, 414, 72, 149, 473, 986, 22, 874, 517, 899, 287, 130, 650, 69, 639, 818, 918, 368, 478, 781, 298, 530, 474, 679, 315, 333, 80, 711, 684, 572, 915, 940, 552, 555, 167, 247, 260, 824, 346, 136, 750, 230, 722, 533, 45, 28, 959, 394, 535, 596, 947, 615, 589, 42, 613, 488, 593, 742, 205, 457, 232, 39, 166, 785, 443, 332, 509, 119, 740, 227, 359, 641, 301, 138, 990, 155, 356, 432, 308, 982, 330, 10, 466, 38, 786, 971, 630, 927, 492, 931, 426, 806, 343, 102, 909, 220, 418, 435, 182, 427, 540, 716, 566, 114, 797, 246, 251, 675, 939, 671, 981, 873, 145, 219, 372, 937, 938, 819, 229, 698, 396, 712, 837, 988, 823, 344, 276, 177, 611, 946, 236, 401, 701, 451, 342, 33, 989, 860, 646, 542, 126, 972, 622, 436, 565, 621, 913, 723]\n",
            "\n",
            "\n",
            "Day 2 Routes:\n",
            "  Group 1 Route: [513, 979, 820, 83, 305, 66, 734, 91, 258, 666, 376, 890, 357, 35, 409, 176, 269, 826]\n",
            "  Group 2 Route: [576, 696, 455, 817, 290, 421, 928, 191, 442, 886, 352, 377, 612, 482, 672, 374, 935, 618, 743]\n",
            "  Group 3 Route: [952, 883, 234, 994, 912, 96, 193, 771, 47, 568, 46, 889, 885, 926, 97, 158, 816, 444, 74]\n",
            "  Group 4 Route: [307, 326, 65, 737, 110, 23, 718, 198, 152, 351, 868, 519, 894, 963, 336, 897, 667, 498]\n",
            "  Group 5 Route: [953, 338, 26, 378, 707, 367, 318, 574, 302, 787, 483, 161, 294, 52, 364, 157, 456]\n",
            "  Unassigned ATMs: [493, 968, 391, 128, 956, 878, 744, 762, 196, 831, 286, 524, 189, 862, 544, 809, 964, 595, 892, 187, 636, 384, 3, 864, 756, 879, 36, 514, 382, 925, 587, 623, 19, 564, 966, 505, 634, 796, 412, 936, 310, 153, 775, 682, 186, 751, 64, 929, 870, 194, 882, 144, 961, 216, 728, 752, 893, 165, 729, 479, 649, 486, 735, 578, 725, 254, 557, 453, 296, 689, 845, 370, 599, 547, 105, 1, 334, 829, 923, 170, 106, 100, 188, 757, 55, 976, 774, 520, 16, 592, 61, 782, 239, 464, 116, 146, 340, 231, 263, 147, 235, 642, 511, 437, 59, 516, 233, 656, 268, 402, 999, 414, 72, 149, 473, 986, 22, 874, 517, 899, 287, 130, 650, 69, 639, 818, 918, 368, 478, 781, 298, 530, 474, 679, 315, 333, 80, 711, 684, 572, 915, 940, 552, 555, 167, 247, 260, 824, 346, 136, 750, 230, 722, 533, 45, 28, 959, 394, 535, 596, 947, 615, 589, 42, 613, 488, 593, 742, 205, 457, 232, 39, 166, 785, 443, 332, 509, 119, 740, 227, 359, 641, 301, 138, 990, 155, 356, 432, 308, 982, 330, 10, 466, 38, 786, 971, 630, 927, 492, 931, 426, 806, 343, 102, 909, 220, 418, 435, 182, 427, 540, 716, 566, 114, 797, 246, 251, 675, 939, 671, 981, 873, 145, 219, 372, 937, 938, 819, 229, 698, 396, 712, 837, 988, 823, 344, 276, 177, 611, 946, 236, 401, 701, 451, 342, 33, 989, 860, 646, 542, 126, 972, 622, 436, 565, 621, 913, 723]\n",
            "\n",
            "\n",
            "Day 3 Routes:\n",
            "  Group 1 Route: [513, 979, 820, 83, 305, 66, 734, 91, 258, 666, 376, 890, 357, 35, 409, 176, 269, 826]\n",
            "  Group 2 Route: [576, 696, 455, 817, 290, 421, 928, 191, 442, 886, 352, 377, 612, 482, 672, 374, 935, 618, 743]\n",
            "  Group 3 Route: [952, 883, 234, 994, 912, 96, 193, 771, 47, 568, 46, 889, 885, 926, 97, 158, 816, 444, 74]\n",
            "  Group 4 Route: [307, 326, 65, 737, 110, 23, 718, 198, 152, 351, 868, 519, 894, 963, 336, 897, 667, 498]\n",
            "  Group 5 Route: [953, 338, 26, 378, 707, 367, 318, 574, 302, 787, 483, 161, 294, 52, 364, 157, 456]\n",
            "  Unassigned ATMs: [493, 968, 391, 128, 956, 878, 744, 762, 196, 831, 286, 524, 189, 862, 544, 809, 964, 595, 892, 187, 636, 384, 3, 864, 756, 879, 36, 514, 382, 925, 587, 623, 19, 564, 966, 505, 634, 796, 412, 936, 310, 153, 775, 682, 186, 751, 64, 929, 870, 194, 882, 144, 961, 216, 728, 752, 893, 165, 729, 479, 649, 486, 735, 578, 725, 254, 557, 453, 296, 689, 845, 370, 599, 547, 105, 1, 334, 829, 923, 170, 106, 100, 188, 757, 55, 976, 774, 520, 16, 592, 61, 782, 239, 464, 116, 146, 340, 231, 263, 147, 235, 642, 511, 437, 59, 516, 233, 656, 268, 402, 999, 414, 72, 149, 473, 986, 22, 874, 517, 899, 287, 130, 650, 69, 639, 818, 918, 368, 478, 781, 298, 530, 474, 679, 315, 333, 80, 711, 684, 572, 915, 940, 552, 555, 167, 247, 260, 824, 346, 136, 750, 230, 722, 533, 45, 28, 959, 394, 535, 596, 947, 615, 589, 42, 613, 488, 593, 742, 205, 457, 232, 39, 166, 785, 443, 332, 509, 119, 740, 227, 359, 641, 301, 138, 990, 155, 356, 432, 308, 982, 330, 10, 466, 38, 786, 971, 630, 927, 492, 931, 426, 806, 343, 102, 909, 220, 418, 435, 182, 427, 540, 716, 566, 114, 797, 246, 251, 675, 939, 671, 981, 873, 145, 219, 372, 937, 938, 819, 229, 698, 396, 712, 837, 988, 823, 344, 276, 177, 611, 946, 236, 401, 701, 451, 342, 33, 989, 860, 646, 542, 126, 972, 622, 436, 565, 621, 913, 723]\n",
            "\n",
            "\n",
            "Day 4 Routes:\n",
            "  Group 1 Route: [513, 979, 820, 83, 305, 66, 734, 91, 258, 666, 376, 890, 357, 35, 409, 176, 269, 826]\n",
            "  Group 2 Route: [576, 696, 455, 817, 290, 421, 928, 191, 442, 886, 352, 377, 612, 482, 672, 374, 935, 618, 743]\n",
            "  Group 3 Route: [952, 883, 234, 994, 912, 96, 193, 771, 47, 568, 46, 889, 885, 926, 97, 158, 816, 444, 74]\n",
            "  Group 4 Route: [307, 326, 65, 737, 110, 23, 718, 198, 152, 351, 868, 519, 894, 963, 336, 897, 667, 498]\n",
            "  Group 5 Route: [953, 338, 26, 378, 707, 367, 318, 574, 302, 787, 483, 161, 294, 52, 364, 157, 456]\n",
            "  Unassigned ATMs: [493, 968, 391, 128, 956, 878, 744, 762, 196, 831, 286, 524, 189, 862, 544, 809, 964, 595, 892, 187, 636, 384, 3, 864, 756, 879, 36, 514, 382, 925, 587, 623, 19, 564, 966, 505, 634, 796, 412, 936, 310, 153, 775, 682, 186, 751, 64, 929, 870, 194, 882, 144, 961, 216, 728, 752, 893, 165, 729, 479, 649, 486, 735, 578, 725, 254, 557, 453, 296, 689, 845, 370, 599, 547, 105, 1, 334, 829, 923, 170, 106, 100, 188, 757, 55, 976, 774, 520, 16, 592, 61, 782, 239, 464, 116, 146, 340, 231, 263, 147, 235, 642, 511, 437, 59, 516, 233, 656, 268, 402, 999, 414, 72, 149, 473, 986, 22, 874, 517, 899, 287, 130, 650, 69, 639, 818, 918, 368, 478, 781, 298, 530, 474, 679, 315, 333, 80, 711, 684, 572, 915, 940, 552, 555, 167, 247, 260, 824, 346, 136, 750, 230, 722, 533, 45, 28, 959, 394, 535, 596, 947, 615, 589, 42, 613, 488, 593, 742, 205, 457, 232, 39, 166, 785, 443, 332, 509, 119, 740, 227, 359, 641, 301, 138, 990, 155, 356, 432, 308, 982, 330, 10, 466, 38, 786, 971, 630, 927, 492, 931, 426, 806, 343, 102, 909, 220, 418, 435, 182, 427, 540, 716, 566, 114, 797, 246, 251, 675, 939, 671, 981, 873, 145, 219, 372, 937, 938, 819, 229, 698, 396, 712, 837, 988, 823, 344, 276, 177, 611, 946, 236, 401, 701, 451, 342, 33, 989, 860, 646, 542, 126, 972, 622, 436, 565, 621, 913, 723]\n",
            "\n",
            "\n",
            "Day 5 Routes:\n",
            "  Group 1 Route: [513, 979, 820, 83, 305, 66, 734, 91, 258, 666, 376, 890, 357, 35, 409, 176, 269, 826]\n",
            "  Group 2 Route: [576, 696, 455, 817, 290, 421, 928, 191, 442, 886, 352, 377, 612, 482, 672, 374, 935, 618, 743]\n",
            "  Group 3 Route: [952, 883, 234, 994, 912, 96, 193, 771, 47, 568, 46, 889, 885, 926, 97, 158, 816, 444, 74]\n",
            "  Group 4 Route: [307, 326, 65, 737, 110, 23, 718, 198, 152, 351, 868, 519, 894, 963, 336, 897, 667, 498]\n",
            "  Group 5 Route: [953, 338, 26, 378, 707, 367, 318, 574, 302, 787, 483, 161, 294, 52, 364, 157, 456]\n",
            "  Unassigned ATMs: [493, 968, 391, 128, 956, 878, 744, 762, 196, 831, 286, 524, 189, 862, 544, 809, 964, 595, 892, 187, 636, 384, 3, 864, 756, 879, 36, 514, 382, 925, 587, 623, 19, 564, 966, 505, 634, 796, 412, 936, 310, 153, 775, 682, 186, 751, 64, 929, 870, 194, 882, 144, 961, 216, 728, 752, 893, 165, 729, 479, 649, 486, 735, 578, 725, 254, 557, 453, 296, 689, 845, 370, 599, 547, 105, 1, 334, 829, 923, 170, 106, 100, 188, 757, 55, 976, 774, 520, 16, 592, 61, 782, 239, 464, 116, 146, 340, 231, 263, 147, 235, 642, 511, 437, 59, 516, 233, 656, 268, 402, 999, 414, 72, 149, 473, 986, 22, 874, 517, 899, 287, 130, 650, 69, 639, 818, 918, 368, 478, 781, 298, 530, 474, 679, 315, 333, 80, 711, 684, 572, 915, 940, 552, 555, 167, 247, 260, 824, 346, 136, 750, 230, 722, 533, 45, 28, 959, 394, 535, 596, 947, 615, 589, 42, 613, 488, 593, 742, 205, 457, 232, 39, 166, 785, 443, 332, 509, 119, 740, 227, 359, 641, 301, 138, 990, 155, 356, 432, 308, 982, 330, 10, 466, 38, 786, 971, 630, 927, 492, 931, 426, 806, 343, 102, 909, 220, 418, 435, 182, 427, 540, 716, 566, 114, 797, 246, 251, 675, 939, 671, 981, 873, 145, 219, 372, 937, 938, 819, 229, 698, 396, 712, 837, 988, 823, 344, 276, 177, 611, 946, 236, 401, 701, 451, 342, 33, 989, 860, 646, 542, 126, 972, 622, 436, 565, 621, 913, 723]\n",
            "\n",
            "\n"
          ]
        }
      ]
    },
    {
      "cell_type": "markdown",
      "source": [
        "Дополнение с алгоритмом Насти"
      ],
      "metadata": {
        "id": "NozFPeBvYz5J"
      }
    },
    {
      "cell_type": "code",
      "source": [
        "import numpy as np\n",
        "import heapq\n",
        "\n",
        "# Параметры\n",
        "NUM_ATMS = 100  # Количество банкоматов\n",
        "NUM_GROUPS = 5  # Количество групп инкассаторов\n",
        "NUM_DAYS = 3  # Количество дней, на которые нужно построить маршруты\n",
        "WORKING_DAY_DURATION = 8 * 60  # Рабочий день в минутах\n",
        "SERVICE_TIME_PER_ATM = 10  # Время обслуживания одного банкомата, например, 10 минут\n",
        "\n",
        "class ATM:\n",
        "    def __init__(self, atm_id, accept_capacity, dispense_capacity, accept_rate, dispense_rate):\n",
        "        self.atm_id = atm_id\n",
        "        self.accept_capacity = accept_capacity\n",
        "        self.dispense_capacity = dispense_capacity\n",
        "        self.accept_rate = accept_rate\n",
        "        self.dispense_rate = dispense_rate\n",
        "        self.current_accept = np.random.randint(0, accept_capacity)  # Начальное количество для приема\n",
        "        self.current_dispense = np.random.randint(0, dispense_capacity)  # Начальное количество для выдачи\n",
        "\n",
        "    def needs_service(self):\n",
        "        # Условие на необходимость обслуживания\n",
        "        return self.current_accept >= self.accept_capacity or self.current_dispense <= 0\n",
        "\n",
        "    def update(self):\n",
        "        # Моделирование изменения состояния банкомата за день\n",
        "        self.current_accept += int(np.random.normal(self.accept_rate))\n",
        "        self.current_dispense -= int(np.random.normal(self.dispense_rate))\n",
        "\n",
        "# Инициализация банкоматов\n",
        "np.random.seed(1)\n",
        "atms = [ATM(i, np.random.randint(100, 500), np.random.randint(100, 500),\n",
        "             np.random.randint(10, 30), np.random.randint(10, 30)) for i in range(NUM_ATMS)]\n",
        "\n",
        "# Создание дорожной сети\n",
        "adj_matrix = np.random.randint(1, 101, size=(NUM_ATMS + 1, NUM_ATMS + 1))  # включая базу\n",
        "np.fill_diagonal(adj_matrix, 0)  # расстояние от узла до самого себя - 0\n",
        "\n",
        "# Функция Дейкстры для нахождения кратчайшего пути между банкоматами\n",
        "def dijkstra(matrix, start_id, end_id):\n",
        "    n = len(matrix)\n",
        "    distances = {i: float('infinity') for i in range(n)}\n",
        "    distances[start_id] = 0\n",
        "    priority_queue = [(0, start_id)]\n",
        "    predecessors = {i: None for i in range(n)}\n",
        "\n",
        "    while priority_queue:\n",
        "        current_distance, current_node = heapq.heappop(priority_queue)\n",
        "        if current_distance > distances[current_node]:\n",
        "            continue\n",
        "\n",
        "        for neighbor, weight in enumerate(matrix[current_node]):\n",
        "            if weight > 0:\n",
        "                distance = current_distance + weight\n",
        "                if distance < distances[neighbor]:\n",
        "                    distances[neighbor] = distance\n",
        "                    predecessors[neighbor] = current_node\n",
        "                    heapq.heappush(priority_queue, (distance, neighbor))\n",
        "\n",
        "    # Восстанавливаем путь\n",
        "    path = []\n",
        "    current = end_id\n",
        "    while current is not None:\n",
        "        path.append(current)\n",
        "        current = predecessors[current]\n",
        "\n",
        "    return path[::-1]\n",
        "\n",
        "# Функция для планирования маршрутов инкассаторов на каждый день\n",
        "def plan_routes(atms, adj_matrix, num_groups, num_days):\n",
        "    base_location = NUM_ATMS  # База инкассаторов\n",
        "    for day in range(num_days):\n",
        "        print(f\"Day {day + 1} Routes:\")\n",
        "\n",
        "        # Определяем банкоматы, которые нуждаются в обслуживании\n",
        "        atms_needing_service = [atm.atm_id for atm in atms if atm.needs_service()]\n",
        "\n",
        "        # Инициализируем маршруты и время для каждой группы инкассаторов\n",
        "        group_routes = {group_id: [] for group_id in range(num_groups)}\n",
        "        group_times = {group_id: 0 for group_id in range(num_groups)}\n",
        "\n",
        "        while atms_needing_service:\n",
        "            for group_id in range(num_groups):\n",
        "                if not atms_needing_service:\n",
        "                    break  # Если больше нет банкоматов для обслуживания, заканчиваем цикл\n",
        "\n",
        "                # Текущее местоположение инкассаторов (последний обслуженный банкомат или база)\n",
        "                current_location = group_routes[group_id][-1] if group_routes[group_id] else base_location\n",
        "\n",
        "                # Находим ближайший банкомат из оставшихся нуждающихся в обслуживании\n",
        "                shortest_path = None\n",
        "                shortest_time = float('inf')\n",
        "                closest_atm = None\n",
        "\n",
        "                for atm_id in atms_needing_service:\n",
        "                    path = dijkstra(adj_matrix, current_location, atm_id)\n",
        "                    time = sum(adj_matrix[path[i]][path[i + 1]] for i in range(len(path) - 1))\n",
        "\n",
        "                    if time < shortest_time:\n",
        "                        shortest_time = time\n",
        "                        shortest_path = path\n",
        "                        closest_atm = atm_id\n",
        "\n",
        "                if closest_atm is None:\n",
        "                    continue  # Если банкоматы закончились, пропускаем\n",
        "\n",
        "                # Проверяем, помещается ли время на обслуживание в рабочий день\n",
        "                potential_total_time = group_times[group_id] + shortest_time + SERVICE_TIME_PER_ATM\n",
        "\n",
        "                if potential_total_time <= WORKING_DAY_DURATION:\n",
        "                    group_routes[group_id].extend(shortest_path[1:])  # Добавляем маршрут к группе\n",
        "                    group_times[group_id] = potential_total_time\n",
        "                    atms_needing_service.remove(closest_atm)  # Убираем банкомат из списка нуждающихся\n",
        "                else:\n",
        "                    # Если банкомат не помещается по времени, завершаем маршрут для этой группы\n",
        "                    break\n",
        "\n",
        "        # Вывод маршрутов группы на текущий день\n",
        "        for group_id, route in group_routes.items():\n",
        "            print(f\"  Group {group_id + 1} Route: {route}\")\n",
        "\n",
        "        # Обновляем состояние банкоматов в конце дня\n",
        "        for atm in atms:\n",
        "            atm.update()\n",
        "\n",
        "# Планируем маршруты на несколько дней\n",
        "plan_routes(atms, adj_matrix, NUM_GROUPS, NUM_DAYS)"
      ],
      "metadata": {
        "colab": {
          "base_uri": "https://localhost:8080/"
        },
        "id": "IOtaHs-cXQ6z",
        "outputId": "d9753d23-2992-4afa-b90f-abd4de956876"
      },
      "execution_count": 3,
      "outputs": [
        {
          "output_type": "stream",
          "name": "stdout",
          "text": [
            "Day 1 Routes:\n",
            "  Group 1 Route: []\n",
            "  Group 2 Route: []\n",
            "  Group 3 Route: []\n",
            "  Group 4 Route: []\n",
            "  Group 5 Route: []\n",
            "Day 2 Routes:\n",
            "  Group 1 Route: [48, 70, 61, 49, 57, 78, 80]\n",
            "  Group 2 Route: [74, 14, 71, 79, 0, 71, 63, 6, 7]\n",
            "  Group 3 Route: [73, 18, 19, 31, 62]\n",
            "  Group 4 Route: [73, 33, 35, 55, 13, 30, 64]\n",
            "  Group 5 Route: [74, 14, 71, 63, 65, 77, 94]\n",
            "Day 3 Routes:\n",
            "  Group 1 Route: [48, 70, 61, 49, 84, 83, 19, 31, 62]\n",
            "  Group 2 Route: [9, 36, 68, 49, 30, 41, 1, 24, 8, 91, 34, 17, 65]\n",
            "  Group 3 Route: [74, 14, 71, 63, 6, 7, 80, 83, 19, 15, 77]\n",
            "  Group 4 Route: [73, 18, 90, 69, 37, 33, 35, 55, 13, 59, 90, 91, 34, 16, 13, 59, 94]\n",
            "  Group 5 Route: [73, 35, 86, 64, 22, 76, 75, 0]\n"
          ]
        }
      ]
    }
  ]
}